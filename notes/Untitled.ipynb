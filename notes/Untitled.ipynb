{
 "cells": [
  {
   "cell_type": "code",
   "execution_count": 4,
   "metadata": {},
   "outputs": [],
   "source": [
    "%load_ext autoreload"
   ]
  },
  {
   "cell_type": "code",
   "execution_count": 5,
   "metadata": {},
   "outputs": [],
   "source": [
    "%autoreload 2"
   ]
  },
  {
   "cell_type": "code",
   "execution_count": 6,
   "metadata": {},
   "outputs": [],
   "source": [
    "import esmlab_regrid\n",
    "import esmlab"
   ]
  },
  {
   "cell_type": "code",
   "execution_count": 7,
   "metadata": {},
   "outputs": [],
   "source": [
    "from esmlab_regrid.core import _GridRef"
   ]
  },
  {
   "cell_type": "code",
   "execution_count": 11,
   "metadata": {},
   "outputs": [
    {
     "data": {
      "text/plain": [
       "<esmlab.config.set at 0x113557f28>"
      ]
     },
     "execution_count": 11,
     "metadata": {},
     "output_type": "execute_result"
    }
   ],
   "source": [
    "esmlab.config.set({'regrid.gridfile-directory': '/Users/abanihi/devel/ncar/esmlab-regrid/tests/data'})"
   ]
  },
  {
   "cell_type": "code",
   "execution_count": 13,
   "metadata": {},
   "outputs": [
    {
     "name": "stdout",
     "output_type": "stream",
     "text": [
      "/Users/abanihi/devel/ncar/esmlab-regrid/tests/data\n"
     ]
    }
   ],
   "source": [
    "a = _GridRef(name=\"T62\", overwrite_existing=False)"
   ]
  },
  {
   "cell_type": "code",
   "execution_count": 14,
   "metadata": {},
   "outputs": [
    {
     "data": {
      "text/plain": [
       "<esmlab_regrid.core._GridRef at 0x113715f60>"
      ]
     },
     "execution_count": 14,
     "metadata": {},
     "output_type": "execute_result"
    }
   ],
   "source": [
    "a"
   ]
  },
  {
   "cell_type": "code",
   "execution_count": 15,
   "metadata": {},
   "outputs": [
    {
     "data": {
      "text/plain": [
       "<xarray.Dataset>\n",
       "Dimensions:          (grid_corners: 4, grid_rank: 2, grid_size: 18048, lat: 94, lon: 192)\n",
       "Coordinates:\n",
       "  * lat              (lat) float32 -88.542 -86.6532 -84.7532 ... 86.6532 88.542\n",
       "  * lon              (lon) float32 0.0 1.875 3.75 ... 354.375 356.25 358.125\n",
       "Dimensions without coordinates: grid_corners, grid_rank, grid_size\n",
       "Data variables:\n",
       "    grid_dims        (grid_rank) int32 192 94\n",
       "    grid_center_lat  (grid_size) float64 ...\n",
       "    grid_center_lon  (grid_size) float64 ...\n",
       "    grid_imask       (grid_size) int32 1 1 1 1 1 1 1 1 1 1 ... 1 1 1 1 1 1 1 1 1\n",
       "    grid_corner_lat  (grid_size, grid_corners) float64 ...\n",
       "    grid_corner_lon  (grid_size, grid_corners) float64 ...\n",
       "Attributes:\n",
       "    date_created:  Sat Dec 15 05:00:32 MST 2018\n",
       "    Createdby:     ESMF_regridding.ncl\n",
       "    Conventions:   SCRIP\n",
       "    title:         rectilinear_to_SCRIP (94,192)"
      ]
     },
     "execution_count": 15,
     "metadata": {},
     "output_type": "execute_result"
    }
   ],
   "source": [
    "a.ds"
   ]
  },
  {
   "cell_type": "code",
   "execution_count": null,
   "metadata": {},
   "outputs": [],
   "source": []
  }
 ],
 "metadata": {
  "kernelspec": {
   "display_name": "Python 3",
   "language": "python",
   "name": "python3"
  },
  "language_info": {
   "codemirror_mode": {
    "name": "ipython",
    "version": 3
   },
   "file_extension": ".py",
   "mimetype": "text/x-python",
   "name": "python",
   "nbconvert_exporter": "python",
   "pygments_lexer": "ipython3",
   "version": "3.6.7"
  }
 },
 "nbformat": 4,
 "nbformat_minor": 2
}
